{
 "cells": [
  {
   "cell_type": "code",
   "execution_count": 1,
   "metadata": {},
   "outputs": [],
   "source": [
    "import numpy as np\n",
    "from numpy import asarray\n",
    "from PIL import Image, ImageOps\n",
    "import random"
   ]
  },
  {
   "cell_type": "code",
   "execution_count": 2,
   "metadata": {},
   "outputs": [
    {
     "name": "stdout",
     "output_type": "stream",
     "text": [
      "Input image size (in pixels) :  (800, 450)\n"
     ]
    }
   ],
   "source": [
    "# Retriving image and convert it to binary image (grayscale)\n",
    "image = Image.open('Koala.jpg')\n",
    "image = ImageOps.grayscale(image)\n",
    "\n",
    "print(\"Input image size (in pixels) : \", image.size)"
   ]
  },
  {
   "cell_type": "code",
   "execution_count": 3,
   "metadata": {},
   "outputs": [],
   "source": [
    "# Show the image\n",
    "image.show()"
   ]
  },
  {
   "cell_type": "code",
   "execution_count": 4,
   "metadata": {},
   "outputs": [
    {
     "name": "stdout",
     "output_type": "stream",
     "text": [
      "Input image size (in terms of array dimensions) :  450  *  800\n"
     ]
    }
   ],
   "source": [
    "# Converting image to matrix\n",
    "data = asarray(image)\n",
    "(height, width) = data.shape\n",
    "print(\"Input image size (in terms of array dimensions) : \", height , \" * \", width)"
   ]
  },
  {
   "cell_type": "code",
   "execution_count": 5,
   "metadata": {},
   "outputs": [],
   "source": [
    "# Creating secret images\n",
    "height *= 2\n",
    "width *= 2\n",
    "secret_share1 = np.empty((height, width)).astype('uint8')\n",
    "secret_share2 = np.empty((height, width)).astype('uint8')"
   ]
  },
  {
   "cell_type": "code",
   "execution_count": 6,
   "metadata": {},
   "outputs": [],
   "source": [
    "def extract_colour(colour_code):\n",
    "    if colour_code < 128:\n",
    "        white = np.random.rand(4)\n",
    "        white = white.astype('uint8')\n",
    "        return white\n",
    "    else:\n",
    "        black = [[0,0,255,255], [255,255,0,0], [255,0,0,255],[0,255,255,0],[255,0,255,0],[0,255,0,255]]\n",
    "        return np.array(black[random.randint(0,5)])\n",
    "        "
   ]
  },
  {
   "cell_type": "code",
   "execution_count": 7,
   "metadata": {},
   "outputs": [],
   "source": [
    "for i in range(len(data)):\n",
    "    for j in range(len(data[0])):\n",
    "        color = extract_colour(data[i][j])\n",
    "        secret_share1[2*i][2*j] = color[0]\n",
    "        secret_share1[2*i][2*j + 1] = color[1]\n",
    "        secret_share1[2*i + 1][2*j] = color[2]\n",
    "        secret_share1[2*i + 1][2*j + 1] = color[3]\n",
    "        \n",
    "        if data[i][j]:\n",
    "            color = 255 - color\n",
    "        \n",
    "        secret_share2[2*i][2*j] = color[0]\n",
    "        secret_share2[2*i][2*j + 1] = color[1]\n",
    "        secret_share2[2*i + 1][2*j] = color[2]\n",
    "        secret_share2[2*i + 1][2*j + 1] = color[3]"
   ]
  },
  {
   "cell_type": "code",
   "execution_count": 8,
   "metadata": {},
   "outputs": [],
   "source": [
    "# Decryption\n",
    "def decrytption(secret_share1, secret_share2):\n",
    "    decrypt_data = secret_share1\n",
    "    for i in range(len(data)):\n",
    "        for j in range(len(data[0])):\n",
    "            decrypt_data[i][j] = max(secret_share1[i][j], secret_share2[i][j])\n",
    "            \n",
    "    return decrypt_data\n",
    "decrypt_data = decrytption(secret_share1, secret_share2)"
   ]
  },
  {
   "cell_type": "code",
   "execution_count": 9,
   "metadata": {},
   "outputs": [],
   "source": [
    "# Converting arrays back to images\n",
    "data_image = Image.fromarray(data)\t\t# Input image\n",
    "secret_image1 = Image.fromarray(secret_share1)\t# Noise image 1\n",
    "secret_image2 = Image.fromarray(secret_share2)\t# Noise image 2\n",
    "decrypted_image = Image.fromarray(decrypt_data)\n",
    "decrypted_image.show()"
   ]
  },
  {
   "cell_type": "code",
   "execution_count": 10,
   "metadata": {},
   "outputs": [
    {
     "name": "stdout",
     "output_type": "stream",
     "text": [
      "All images are saved ...\n"
     ]
    }
   ],
   "source": [
    "# Save the images\n",
    "data_image = data_image.save('Original image.png')\n",
    "secret_image1 = secret_image1.save('Secret image 1.png')\n",
    "secret_image2 = secret_image2.save('Secret image 2.png')\n",
    "decrypted_image = decrypted_image.save('Final output.png')\n",
    "print(\"All images are saved ...\")"
   ]
  },
  {
   "cell_type": "code",
   "execution_count": null,
   "metadata": {},
   "outputs": [],
   "source": []
  }
 ],
 "metadata": {
  "kernelspec": {
   "display_name": "Python 3",
   "language": "python",
   "name": "python3"
  },
  "language_info": {
   "codemirror_mode": {
    "name": "ipython",
    "version": 3
   },
   "file_extension": ".py",
   "mimetype": "text/x-python",
   "name": "python",
   "nbconvert_exporter": "python",
   "pygments_lexer": "ipython3",
   "version": "3.8.3"
  }
 },
 "nbformat": 4,
 "nbformat_minor": 4
}
